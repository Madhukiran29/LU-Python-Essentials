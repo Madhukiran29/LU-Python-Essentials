{
 "cells": [
  {
   "cell_type": "code",
   "execution_count": 1,
   "metadata": {},
   "outputs": [],
   "source": [
    "#files  and modules #"
   ]
  },
  {
   "cell_type": "code",
   "execution_count": 32,
   "metadata": {},
   "outputs": [
    {
     "name": "stdout",
     "output_type": "stream",
     "text": [
      "{'FTP': 21, 'SSH': 22, 'telnet': 23, 'http': 80}\n"
     ]
    }
   ],
   "source": [
    "#1\n",
    "\n",
    "#port1 = (21: \"FTP\", 22:\"SSH\", 23: \"telnet\", 80: \"http\")\n",
    "\n",
    "#make a new dictionary in which keys become values and values become keys,\n",
    "\n",
    "p1 = {21:\"FTP\", 22:\"SSH\", 23: \"telnet\", 80: \"http\"}\n",
    "\n",
    "print({value:key for key,value in p1.items()})\n",
    "        "
   ]
  },
  {
   "cell_type": "code",
   "execution_count": null,
   "metadata": {},
   "outputs": [],
   "source": []
  },
  {
   "cell_type": "code",
   "execution_count": 33,
   "metadata": {},
   "outputs": [
    {
     "name": "stdout",
     "output_type": "stream",
     "text": [
      "[3, 7, 11, 9]\n"
     ]
    }
   ],
   "source": [
    "#2\n",
    "#Take a list of tuple as shown below. [ (1,2),(3,4),(5,6),(4,5) ]\n",
    "\n",
    "#Make a new list which contains the sum of the number of tuples.\n",
    "\n",
    "tup=[ (1,2),(3,4),(5,6),(4,5) ]\n",
    "\n",
    "a=[]\n",
    "\n",
    "\n",
    "for i in tup:\n",
    "    p=0\n",
    "    for j in i:\n",
    "        p=p+j\n",
    "        a.append(p)\n",
    "b=[]        \n",
    "for i in range(len(a)):\n",
    "    if i%2==1:\n",
    "        b.append(a[i])\n",
    "print(b)"
   ]
  },
  {
   "cell_type": "code",
   "execution_count": null,
   "metadata": {},
   "outputs": [],
   "source": []
  }
 ],
 "metadata": {
  "kernelspec": {
   "display_name": "Python 3",
   "language": "python",
   "name": "python3"
  },
  "language_info": {
   "codemirror_mode": {
    "name": "ipython",
    "version": 3
   },
   "file_extension": ".py",
   "mimetype": "text/x-python",
   "name": "python",
   "nbconvert_exporter": "python",
   "pygments_lexer": "ipython3",
   "version": "3.7.6"
  }
 },
 "nbformat": 4,
 "nbformat_minor": 4
}
