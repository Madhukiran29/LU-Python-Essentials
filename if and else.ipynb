{
 "cells": [
  {
   "cell_type": "code",
   "execution_count": 19,
   "metadata": {},
   "outputs": [
    {
     "name": "stdout",
     "output_type": "stream",
     "text": [
      "enter number5\n",
      "15\n"
     ]
    }
   ],
   "source": [
    "'''sum of n numbers with while loop'''\n",
    "\n",
    "n=int(input(\"enter number\"))\n",
    "if n<0:\n",
    "    print(\"enter whole number\")\n",
    "else:\n",
    "    sum=0\n",
    "    while n>0:\n",
    "        sum=sum+n\n",
    "        n=n-1\n",
    "    print(sum)"
   ]
  },
  {
   "cell_type": "code",
   "execution_count": 27,
   "metadata": {},
   "outputs": [
    {
     "name": "stdout",
     "output_type": "stream",
     "text": [
      "enter number1186\n",
      "1186 is not prime number\n",
      "1186 is divided by 593 by 2 times\n"
     ]
    }
   ],
   "source": [
    "'''take integer and find prime or not'''\n",
    "\n",
    "a=int(input(\"enter number\"))\n",
    "if a<=0:\n",
    "    print(\"not prime number\")\n",
    "if a==1:\n",
    "    print(\"co-prime number\")\n",
    "if a>1:\n",
    "    for i in range(2,a):\n",
    "        if a%i==0:\n",
    "            print(a,\"is not prime number\")\n",
    "            print(a,\"is divided by\",a//i,\"by\",i,\"times\")\n",
    "            break\n",
    "        else:\n",
    "            print(\"prime number\")\n",
    "            "
   ]
  },
  {
   "cell_type": "code",
   "execution_count": null,
   "metadata": {},
   "outputs": [],
   "source": []
  }
 ],
 "metadata": {
  "kernelspec": {
   "display_name": "Python 3",
   "language": "python",
   "name": "python3"
  },
  "language_info": {
   "codemirror_mode": {
    "name": "ipython",
    "version": 3
   },
   "file_extension": ".py",
   "mimetype": "text/x-python",
   "name": "python",
   "nbconvert_exporter": "python",
   "pygments_lexer": "ipython3",
   "version": "3.7.6"
  }
 },
 "nbformat": 4,
 "nbformat_minor": 4
}
